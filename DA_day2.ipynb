{
  "nbformat": 4,
  "nbformat_minor": 0,
  "metadata": {
    "colab": {
      "provenance": [],
      "authorship_tag": "ABX9TyO2cI2BKZHQxJtQkt6OgtAe",
      "include_colab_link": true
    },
    "kernelspec": {
      "name": "python3",
      "display_name": "Python 3"
    },
    "language_info": {
      "name": "python"
    }
  },
  "cells": [
    {
      "cell_type": "markdown",
      "metadata": {
        "id": "view-in-github",
        "colab_type": "text"
      },
      "source": [
        "<a href=\"https://colab.research.google.com/github/9490549112/22A81A0574-/blob/main/DA_day2.ipynb\" target=\"_parent\"><img src=\"https://colab.research.google.com/assets/colab-badge.svg\" alt=\"Open In Colab\"/></a>"
      ]
    },
    {
      "cell_type": "code",
      "execution_count": null,
      "metadata": {
        "id": "4St-6ztgriw_"
      },
      "outputs": [],
      "source": [
        "import numpy as np\n",
        "#random module is sub-package of numpy"
      ]
    },
    {
      "cell_type": "code",
      "source": [
        "A=np.random.rand(1)\n",
        "print(A)"
      ],
      "metadata": {
        "colab": {
          "base_uri": "https://localhost:8080/"
        },
        "id": "JB2grhfVrv1f",
        "outputId": "f98a2b02-f71f-444b-ecfb-3aca26b549ad"
      },
      "execution_count": null,
      "outputs": [
        {
          "output_type": "stream",
          "name": "stdout",
          "text": [
            "[0.68078972]\n"
          ]
        }
      ]
    },
    {
      "cell_type": "code",
      "source": [
        "A=np.random.rand(8,4)#rand-range is between 0 and 1\n",
        "print(A)"
      ],
      "metadata": {
        "colab": {
          "base_uri": "https://localhost:8080/"
        },
        "id": "UqzNC6aotHSp",
        "outputId": "0b8acadc-b4cb-4f66-fd1a-be485f3d8751"
      },
      "execution_count": null,
      "outputs": [
        {
          "output_type": "stream",
          "name": "stdout",
          "text": [
            "[[0.43106254 0.00638945 0.58044628 0.58552127]\n",
            " [0.90660275 0.85184245 0.31753548 0.28547141]\n",
            " [0.69772706 0.02597299 0.36137501 0.16939355]\n",
            " [0.73434311 0.9178159  0.12084058 0.39124888]\n",
            " [0.90912588 0.13650759 0.96007609 0.63719241]\n",
            " [0.05690207 0.56646375 0.25132877 0.62746288]\n",
            " [0.00833504 0.08651565 0.28447627 0.77814103]\n",
            " [0.51998792 0.23918444 0.77579633 0.52310882]]\n"
          ]
        }
      ]
    },
    {
      "cell_type": "code",
      "source": [
        "A=10*np.random.rand(8,4)#rand-range is between 0 and 1\n",
        "print(A)"
      ],
      "metadata": {
        "colab": {
          "base_uri": "https://localhost:8080/"
        },
        "id": "UbQL_il6vGRR",
        "outputId": "24a2125f-28c9-4dc6-8ab9-1fe9c4935a06"
      },
      "execution_count": null,
      "outputs": [
        {
          "output_type": "stream",
          "name": "stdout",
          "text": [
            "[[5.91957948 6.47787859 7.31941765 8.35847938]\n",
            " [1.07173519 1.71948112 3.07556918 0.20857338]\n",
            " [9.28034742 1.91125212 9.75745976 8.46045413]\n",
            " [7.2270749  6.20980195 2.12127748 3.08879924]\n",
            " [6.36636356 2.30588137 8.04189747 6.96942264]\n",
            " [4.23358207 2.2098229  4.18094989 8.17395713]\n",
            " [5.96972341 7.02274633 0.84459493 9.70784667]\n",
            " [7.91538358 1.85121157 7.96458089 0.49723393]]\n"
          ]
        }
      ]
    },
    {
      "cell_type": "code",
      "source": [
        "A=np.floor(10*np.random.rand(8,4))#rand-range is between 0 and 1\n",
        "print(A)"
      ],
      "metadata": {
        "colab": {
          "base_uri": "https://localhost:8080/"
        },
        "id": "gyOXauA9vQQI",
        "outputId": "2ce861b5-c30a-47f7-8236-b4b53cc3ddf5"
      },
      "execution_count": null,
      "outputs": [
        {
          "output_type": "stream",
          "name": "stdout",
          "text": [
            "[[8. 9. 3. 5.]\n",
            " [4. 6. 2. 6.]\n",
            " [9. 6. 6. 6.]\n",
            " [7. 2. 7. 1.]\n",
            " [7. 5. 3. 7.]\n",
            " [6. 4. 8. 0.]\n",
            " [8. 2. 3. 9.]\n",
            " [4. 1. 9. 3.]]\n"
          ]
        }
      ]
    },
    {
      "cell_type": "code",
      "source": [
        "A=np.arange(1,33).reshape(8,4)\n",
        "print(A)"
      ],
      "metadata": {
        "colab": {
          "base_uri": "https://localhost:8080/"
        },
        "id": "7EgL15sWvi6Q",
        "outputId": "62c3d289-6ce3-49cb-bc87-17a9d79e4dd9"
      },
      "execution_count": null,
      "outputs": [
        {
          "output_type": "stream",
          "name": "stdout",
          "text": [
            "[[ 1  2  3  4]\n",
            " [ 5  6  7  8]\n",
            " [ 9 10 11 12]\n",
            " [13 14 15 16]\n",
            " [17 18 19 20]\n",
            " [21 22 23 24]\n",
            " [25 26 27 28]\n",
            " [29 30 31 32]]\n"
          ]
        }
      ]
    },
    {
      "cell_type": "code",
      "source": [
        "np.vsplit(A,4)#Vertical split"
      ],
      "metadata": {
        "colab": {
          "base_uri": "https://localhost:8080/"
        },
        "id": "ZXxLeYCdwVuE",
        "outputId": "90016058-2aa6-4220-ee34-1c505efab624"
      },
      "execution_count": null,
      "outputs": [
        {
          "output_type": "execute_result",
          "data": {
            "text/plain": [
              "[array([[1, 2, 3, 4],\n",
              "        [5, 6, 7, 8]]),\n",
              " array([[ 9, 10, 11, 12],\n",
              "        [13, 14, 15, 16]]),\n",
              " array([[17, 18, 19, 20],\n",
              "        [21, 22, 23, 24]]),\n",
              " array([[25, 26, 27, 28],\n",
              "        [29, 30, 31, 32]])]"
            ]
          },
          "metadata": {},
          "execution_count": 37
        }
      ]
    },
    {
      "cell_type": "code",
      "source": [
        "np.vsplit(A,(3,4))#split it after 3rd row and 4th row"
      ],
      "metadata": {
        "colab": {
          "base_uri": "https://localhost:8080/"
        },
        "id": "7fxPGiVwyLnZ",
        "outputId": "61839662-08aa-4bf8-89b7-053e66ac061e"
      },
      "execution_count": null,
      "outputs": [
        {
          "output_type": "execute_result",
          "data": {
            "text/plain": [
              "[array([[ 1,  2,  3,  4],\n",
              "        [ 5,  6,  7,  8],\n",
              "        [ 9, 10, 11, 12]]),\n",
              " array([[13, 14, 15, 16]]),\n",
              " array([[17, 18, 19, 20],\n",
              "        [21, 22, 23, 24],\n",
              "        [25, 26, 27, 28],\n",
              "        [29, 30, 31, 32]])]"
            ]
          },
          "metadata": {},
          "execution_count": 40
        }
      ]
    },
    {
      "cell_type": "code",
      "source": [
        "B=np.arange(1,33).reshape(4,8)\n",
        "print(B)"
      ],
      "metadata": {
        "colab": {
          "base_uri": "https://localhost:8080/"
        },
        "id": "pW7JPBnizfFV",
        "outputId": "04658cb4-1f03-4333-ae7a-ddc597000bd7"
      },
      "execution_count": null,
      "outputs": [
        {
          "output_type": "stream",
          "name": "stdout",
          "text": [
            "[[ 1  2  3  4  5  6  7  8]\n",
            " [ 9 10 11 12 13 14 15 16]\n",
            " [17 18 19 20 21 22 23 24]\n",
            " [25 26 27 28 29 30 31 32]]\n"
          ]
        }
      ]
    },
    {
      "cell_type": "code",
      "source": [
        "np.hsplit(B,4)#horizontal split"
      ],
      "metadata": {
        "colab": {
          "base_uri": "https://localhost:8080/"
        },
        "id": "poSVX4WOz34W",
        "outputId": "5f4ede4a-22c8-463f-e572-2cd81a643d25"
      },
      "execution_count": null,
      "outputs": [
        {
          "output_type": "execute_result",
          "data": {
            "text/plain": [
              "[array([[ 1,  2],\n",
              "        [ 9, 10],\n",
              "        [17, 18],\n",
              "        [25, 26]]),\n",
              " array([[ 3,  4],\n",
              "        [11, 12],\n",
              "        [19, 20],\n",
              "        [27, 28]]),\n",
              " array([[ 5,  6],\n",
              "        [13, 14],\n",
              "        [21, 22],\n",
              "        [29, 30]]),\n",
              " array([[ 7,  8],\n",
              "        [15, 16],\n",
              "        [23, 24],\n",
              "        [31, 32]])]"
            ]
          },
          "metadata": {},
          "execution_count": 44
        }
      ]
    },
    {
      "cell_type": "code",
      "source": [
        "np.hsplit(B,(2,5))#split it after 2nd column and 5th column"
      ],
      "metadata": {
        "colab": {
          "base_uri": "https://localhost:8080/"
        },
        "id": "N2yhxPbA0fnD",
        "outputId": "d81bd5cb-a69c-4bf8-fd72-761856b18197"
      },
      "execution_count": null,
      "outputs": [
        {
          "output_type": "execute_result",
          "data": {
            "text/plain": [
              "[array([[ 1,  2],\n",
              "        [ 9, 10],\n",
              "        [17, 18],\n",
              "        [25, 26]]),\n",
              " array([[ 3,  4,  5],\n",
              "        [11, 12, 13],\n",
              "        [19, 20, 21],\n",
              "        [27, 28, 29]]),\n",
              " array([[ 6,  7,  8],\n",
              "        [14, 15, 16],\n",
              "        [22, 23, 24],\n",
              "        [30, 31, 32]])]"
            ]
          },
          "metadata": {},
          "execution_count": 48
        }
      ]
    },
    {
      "cell_type": "markdown",
      "source": [
        "Trigonometry"
      ],
      "metadata": {
        "id": "EDpo2PHY3aX1"
      }
    },
    {
      "cell_type": "code",
      "source": [
        "np.pi"
      ],
      "metadata": {
        "colab": {
          "base_uri": "https://localhost:8080/"
        },
        "id": "lsUOC5943fyl",
        "outputId": "d31a5137-8312-4bf5-b966-71b4c0dd7099"
      },
      "execution_count": null,
      "outputs": [
        {
          "output_type": "execute_result",
          "data": {
            "text/plain": [
              "3.141592653589793"
            ]
          },
          "metadata": {},
          "execution_count": 49
        }
      ]
    },
    {
      "cell_type": "code",
      "source": [
        "A=[np.pi/4,np.pi/3,np.pi/2,np.pi]\n",
        "print(A)"
      ],
      "metadata": {
        "colab": {
          "base_uri": "https://localhost:8080/"
        },
        "id": "9vjO0g-f3jDA",
        "outputId": "de76e5fe-7872-4792-fe97-05685037c040"
      },
      "execution_count": null,
      "outputs": [
        {
          "output_type": "stream",
          "name": "stdout",
          "text": [
            "[0.7853981633974483, 1.0471975511965976, 1.5707963267948966, 3.141592653589793]\n"
          ]
        }
      ]
    },
    {
      "cell_type": "code",
      "source": [
        "B=np.rad2deg(A)#Convert radius to degrees\n",
        "print(B)"
      ],
      "metadata": {
        "colab": {
          "base_uri": "https://localhost:8080/"
        },
        "id": "99czOy5V4EE3",
        "outputId": "c45b5548-50c5-4b5c-e64a-408a1f900d77"
      },
      "execution_count": null,
      "outputs": [
        {
          "output_type": "stream",
          "name": "stdout",
          "text": [
            "[ 45.  60.  90. 180.]\n"
          ]
        }
      ]
    },
    {
      "cell_type": "code",
      "source": [
        "np.deg2rad(B)#Convert degrees to radius"
      ],
      "metadata": {
        "colab": {
          "base_uri": "https://localhost:8080/"
        },
        "id": "OS8MoRMm4V2b",
        "outputId": "702bb9f4-9458-4eb4-cfac-3b5ef9edbd5a"
      },
      "execution_count": null,
      "outputs": [
        {
          "output_type": "execute_result",
          "data": {
            "text/plain": [
              "array([0.78539816, 1.04719755, 1.57079633, 3.14159265])"
            ]
          },
          "metadata": {},
          "execution_count": 54
        }
      ]
    },
    {
      "cell_type": "code",
      "source": [
        "np.sin(1)#radians"
      ],
      "metadata": {
        "colab": {
          "base_uri": "https://localhost:8080/"
        },
        "id": "9GPKZt0458Cy",
        "outputId": "69f42e38-07a6-4b66-8143-27fc56acfb80"
      },
      "execution_count": null,
      "outputs": [
        {
          "output_type": "execute_result",
          "data": {
            "text/plain": [
              "0.8414709848078965"
            ]
          },
          "metadata": {},
          "execution_count": 55
        }
      ]
    },
    {
      "cell_type": "code",
      "source": [
        "np.cos(1)"
      ],
      "metadata": {
        "colab": {
          "base_uri": "https://localhost:8080/"
        },
        "id": "0KJEiwfa58iS",
        "outputId": "9fd3cd2b-e2b2-4f53-89a6-a04c5ded90de"
      },
      "execution_count": null,
      "outputs": [
        {
          "output_type": "execute_result",
          "data": {
            "text/plain": [
              "0.5403023058681398"
            ]
          },
          "metadata": {},
          "execution_count": 56
        }
      ]
    },
    {
      "cell_type": "code",
      "source": [
        "np.tan(1)"
      ],
      "metadata": {
        "colab": {
          "base_uri": "https://localhost:8080/"
        },
        "id": "aU8Gt-i46Fq4",
        "outputId": "6885b79d-dc73-4368-a38b-eac64800feaf"
      },
      "execution_count": null,
      "outputs": [
        {
          "output_type": "execute_result",
          "data": {
            "text/plain": [
              "1.5574077246549023"
            ]
          },
          "metadata": {},
          "execution_count": 57
        }
      ]
    },
    {
      "cell_type": "code",
      "source": [
        "st=np.array([23,45,67,89,21,34])"
      ],
      "metadata": {
        "id": "kwbgXoZR6j_A"
      },
      "execution_count": null,
      "outputs": []
    },
    {
      "cell_type": "code",
      "source": [
        "np.mean(st)#mean"
      ],
      "metadata": {
        "colab": {
          "base_uri": "https://localhost:8080/"
        },
        "id": "z6WuYYy56tDP",
        "outputId": "e05c3123-84a9-48d9-f0af-432681985c96"
      },
      "execution_count": null,
      "outputs": [
        {
          "output_type": "execute_result",
          "data": {
            "text/plain": [
              "46.5"
            ]
          },
          "metadata": {},
          "execution_count": 59
        }
      ]
    },
    {
      "cell_type": "code",
      "source": [
        "np.median(st)#median"
      ],
      "metadata": {
        "colab": {
          "base_uri": "https://localhost:8080/"
        },
        "id": "-WORq9ZN7Gn2",
        "outputId": "cceef65a-9013-4738-c698-8cd38074004b"
      },
      "execution_count": null,
      "outputs": [
        {
          "output_type": "execute_result",
          "data": {
            "text/plain": [
              "39.5"
            ]
          },
          "metadata": {},
          "execution_count": 61
        }
      ]
    },
    {
      "cell_type": "code",
      "source": [
        "np.std(st)#Standard deviation"
      ],
      "metadata": {
        "colab": {
          "base_uri": "https://localhost:8080/"
        },
        "id": "ovwvSF4M8mAF",
        "outputId": "3d3a0cdc-7f71-462f-c9d3-77c2d0cc4703"
      },
      "execution_count": null,
      "outputs": [
        {
          "output_type": "execute_result",
          "data": {
            "text/plain": [
              "24.452334585202017"
            ]
          },
          "metadata": {},
          "execution_count": 63
        }
      ]
    },
    {
      "cell_type": "code",
      "source": [
        "np.var(st)#varience"
      ],
      "metadata": {
        "colab": {
          "base_uri": "https://localhost:8080/"
        },
        "id": "txfcGme_7cZq",
        "outputId": "4fc1ea8d-c8e2-43b0-c4e5-85acf2edb6eb"
      },
      "execution_count": null,
      "outputs": [
        {
          "output_type": "execute_result",
          "data": {
            "text/plain": [
              "597.9166666666666"
            ]
          },
          "metadata": {},
          "execution_count": 62
        }
      ]
    },
    {
      "cell_type": "code",
      "source": [
        "C=np.arange(1,5).reshape(2,2)\n",
        "print(C)"
      ],
      "metadata": {
        "colab": {
          "base_uri": "https://localhost:8080/"
        },
        "id": "RIB4bd118b4a",
        "outputId": "1ad595eb-a0df-4b2f-a01c-98f786af019d"
      },
      "execution_count": null,
      "outputs": [
        {
          "output_type": "stream",
          "name": "stdout",
          "text": [
            "[[1 2]\n",
            " [3 4]]\n"
          ]
        }
      ]
    },
    {
      "cell_type": "code",
      "source": [
        "np.linalg.inv(C)#inverse of a matrix C"
      ],
      "metadata": {
        "colab": {
          "base_uri": "https://localhost:8080/"
        },
        "id": "EsQAeRnw-0iW",
        "outputId": "708a3288-aa88-4059-950b-61be91407f04"
      },
      "execution_count": null,
      "outputs": [
        {
          "output_type": "execute_result",
          "data": {
            "text/plain": [
              "array([[-2. ,  1. ],\n",
              "       [ 1.5, -0.5]])"
            ]
          },
          "metadata": {},
          "execution_count": 66
        }
      ]
    },
    {
      "cell_type": "code",
      "source": [
        "C=10*np.random.rand(24).reshape(6,4)\n",
        "print(C)"
      ],
      "metadata": {
        "colab": {
          "base_uri": "https://localhost:8080/"
        },
        "id": "JaASwW1b_2ey",
        "outputId": "22dc98bd-4d71-429b-fe91-afef8e853b7a"
      },
      "execution_count": null,
      "outputs": [
        {
          "output_type": "stream",
          "name": "stdout",
          "text": [
            "[[9.02323208 1.55916431 5.7869243  1.15896762]\n",
            " [8.58542762 8.88435373 6.34700885 6.29412099]\n",
            " [7.625101   1.58871234 4.3454554  1.90002916]\n",
            " [9.89493403 6.19176114 8.81049122 4.81126603]\n",
            " [3.82034782 5.52195523 1.5375197  8.44034302]\n",
            " [7.30595323 8.30212808 5.09509205 7.07072758]]\n"
          ]
        }
      ]
    },
    {
      "cell_type": "code",
      "source": [
        "print(np.argmax(C))#index of maximum number"
      ],
      "metadata": {
        "colab": {
          "base_uri": "https://localhost:8080/"
        },
        "id": "halOE7eG_2wg",
        "outputId": "b6ace9d4-60f3-44cd-8ec1-74547795ad71"
      },
      "execution_count": null,
      "outputs": [
        {
          "output_type": "stream",
          "name": "stdout",
          "text": [
            "12\n"
          ]
        }
      ]
    },
    {
      "cell_type": "code",
      "source": [
        "print(np.argmax(C,axis=0))#indexes of maximum numbers in each column"
      ],
      "metadata": {
        "colab": {
          "base_uri": "https://localhost:8080/"
        },
        "id": "MapQJaPEBzy1",
        "outputId": "458c0ad7-e76c-47ac-9c96-b13dc8842d6d"
      },
      "execution_count": null,
      "outputs": [
        {
          "output_type": "stream",
          "name": "stdout",
          "text": [
            "[3 1 3 4]\n"
          ]
        }
      ]
    },
    {
      "cell_type": "code",
      "source": [
        "print(np.argmax(C,axis=1))#indexes of maximum numbers in each row"
      ],
      "metadata": {
        "colab": {
          "base_uri": "https://localhost:8080/"
        },
        "id": "jgOypuKeCflM",
        "outputId": "15f3876f-bf57-4144-99e2-42f56f9a1367"
      },
      "execution_count": null,
      "outputs": [
        {
          "output_type": "stream",
          "name": "stdout",
          "text": [
            "[0 1 0 0 3 1]\n"
          ]
        }
      ]
    },
    {
      "cell_type": "code",
      "source": [
        "print(np.argmin(C))#index of minimum number"
      ],
      "metadata": {
        "colab": {
          "base_uri": "https://localhost:8080/"
        },
        "id": "tv3bXh3NDb0a",
        "outputId": "808d28b0-0ad5-4c2b-a110-c51799793839"
      },
      "execution_count": null,
      "outputs": [
        {
          "output_type": "stream",
          "name": "stdout",
          "text": [
            "3\n"
          ]
        }
      ]
    },
    {
      "cell_type": "code",
      "source": [
        "print(np.argmin(C,axis=0))#indexes of minimum numbers in each column"
      ],
      "metadata": {
        "colab": {
          "base_uri": "https://localhost:8080/"
        },
        "id": "PxsPh89PEejP",
        "outputId": "1f891f26-27f3-47a4-9afe-3fd925a90108"
      },
      "execution_count": null,
      "outputs": [
        {
          "output_type": "stream",
          "name": "stdout",
          "text": [
            "[4 0 4 0]\n"
          ]
        }
      ]
    },
    {
      "cell_type": "code",
      "source": [
        "print(np.argmin(C,axis=1))#indexes of minimum numbers in each row"
      ],
      "metadata": {
        "colab": {
          "base_uri": "https://localhost:8080/"
        },
        "id": "3bxEF1W7Eqpb",
        "outputId": "ad9d89b3-4768-42a0-8f50-227107144ce0"
      },
      "execution_count": null,
      "outputs": [
        {
          "output_type": "stream",
          "name": "stdout",
          "text": [
            "[3 3 1 3 2 2]\n"
          ]
        }
      ]
    },
    {
      "cell_type": "markdown",
      "source": [
        "Searching"
      ],
      "metadata": {
        "id": "0_J2eFpWFIme"
      }
    },
    {
      "cell_type": "code",
      "source": [
        "a=np.array([34,56,7,17,88,91])\n",
        "print(np.where(a%2==0))#prints even numbers in the array"
      ],
      "metadata": {
        "colab": {
          "base_uri": "https://localhost:8080/"
        },
        "id": "RVWFkKGfFePA",
        "outputId": "b5f009b4-6037-4e30-f2d5-0b5df45b6b63"
      },
      "execution_count": null,
      "outputs": [
        {
          "output_type": "stream",
          "name": "stdout",
          "text": [
            "(array([0, 1, 4]),)\n"
          ]
        }
      ]
    },
    {
      "cell_type": "code",
      "source": [
        "b=np.array([24,16,7,17,54,60])\n",
        "print(np.where(b%6==0))#items divisible by 6"
      ],
      "metadata": {
        "colab": {
          "base_uri": "https://localhost:8080/"
        },
        "id": "vDjNZPXQGpyG",
        "outputId": "21730f4e-784f-4acd-c4f5-636f1f8eb5c6"
      },
      "execution_count": null,
      "outputs": [
        {
          "output_type": "stream",
          "name": "stdout",
          "text": [
            "(array([0, 4, 5]),)\n"
          ]
        }
      ]
    },
    {
      "cell_type": "code",
      "source": [
        "c=np.array([6,7,8,9,10])#used only for sorted list\n",
        "x=np.searchsorted(c,10)#prints index of 10 in the array\n",
        "print(x)"
      ],
      "metadata": {
        "colab": {
          "base_uri": "https://localhost:8080/"
        },
        "id": "0sXvbOTPHfSI",
        "outputId": "73ef3a81-0809-4522-c752-371b4af17be5"
      },
      "execution_count": null,
      "outputs": [
        {
          "output_type": "stream",
          "name": "stdout",
          "text": [
            "4\n"
          ]
        }
      ]
    },
    {
      "cell_type": "code",
      "source": [
        "#sorting array\n",
        "arr=np.array(['banana','cherry','apple'])\n",
        "print(np.sort(arr))\n",
        "\n",
        "arr=np.array([True,False,True])\n",
        "print(np.sort(arr))"
      ],
      "metadata": {
        "colab": {
          "base_uri": "https://localhost:8080/"
        },
        "id": "RqV3E_lbIl2N",
        "outputId": "320f049f-b26d-471f-dcf1-f53b060649a6"
      },
      "execution_count": null,
      "outputs": [
        {
          "output_type": "stream",
          "name": "stdout",
          "text": [
            "['apple' 'banana' 'cherry']\n",
            "[False  True  True]\n"
          ]
        }
      ]
    },
    {
      "cell_type": "code",
      "source": [
        "#Sorting happens within row\n",
        "arr=np.array([[3,2,4],[5,0,1]])\n",
        "print(np.sort(arr))"
      ],
      "metadata": {
        "colab": {
          "base_uri": "https://localhost:8080/"
        },
        "id": "mrA1ECJtJcBt",
        "outputId": "89637614-68da-47dc-f5e7-d2a3b71b71f7"
      },
      "execution_count": null,
      "outputs": [
        {
          "output_type": "stream",
          "name": "stdout",
          "text": [
            "[[2 3 4]\n",
            " [0 1 5]]\n"
          ]
        }
      ]
    },
    {
      "cell_type": "code",
      "source": [
        "arr=np.array([40,43,50,44,67,78])\n",
        "filt=np.where(arr%2==0)\n",
        "print(filt)"
      ],
      "metadata": {
        "colab": {
          "base_uri": "https://localhost:8080/"
        },
        "id": "qKTJOyS8MM-_",
        "outputId": "464d6a20-9ec5-485b-b99b-f660d1b2fd48"
      },
      "execution_count": null,
      "outputs": [
        {
          "output_type": "stream",
          "name": "stdout",
          "text": [
            "(array([0, 2, 3, 5]),)\n"
          ]
        }
      ]
    },
    {
      "cell_type": "code",
      "source": [
        "arr[filt]"
      ],
      "metadata": {
        "colab": {
          "base_uri": "https://localhost:8080/"
        },
        "id": "5rHwjMInMleY",
        "outputId": "40307547-17fd-425f-b892-f6db11c0501a"
      },
      "execution_count": null,
      "outputs": [
        {
          "output_type": "execute_result",
          "data": {
            "text/plain": [
              "array([40, 50, 44, 78])"
            ]
          },
          "metadata": {},
          "execution_count": 98
        }
      ]
    },
    {
      "cell_type": "markdown",
      "source": [
        "Iterating through 2 arrays (zip)"
      ],
      "metadata": {
        "id": "uQ9NpWABOiJP"
      }
    },
    {
      "cell_type": "code",
      "source": [
        "names=np.array([\"prasanna\",\"pilli pilla\",\"suji\",\"sumakka\"])\n",
        "initials=np.array([\"Ch\",\"Y\",\"E\",\"M\"])\n",
        "for i,j in zip(initials,names):\n",
        "  print(i,\".\",j)"
      ],
      "metadata": {
        "colab": {
          "base_uri": "https://localhost:8080/"
        },
        "id": "ffuc5MzCNODQ",
        "outputId": "a8d12d87-e68b-4a3c-a2d8-3014fbddf50a"
      },
      "execution_count": null,
      "outputs": [
        {
          "output_type": "stream",
          "name": "stdout",
          "text": [
            "Ch . prasanna\n",
            "Y . pilli pilla\n",
            "E . suji\n",
            "M . sumakka\n"
          ]
        }
      ]
    },
    {
      "cell_type": "code",
      "source": [
        "a1=np.array([10,20,30,40,50,60])\n",
        "a2=np.array([20,21,22,23,24,25])\n",
        "n=np.multiply(a1,a2)\n",
        "print(n)"
      ],
      "metadata": {
        "colab": {
          "base_uri": "https://localhost:8080/"
        },
        "id": "WYhzIYHkQV8e",
        "outputId": "185c9782-1b8f-4a99-a06b-db0c9a394ec5"
      },
      "execution_count": null,
      "outputs": [
        {
          "output_type": "stream",
          "name": "stdout",
          "text": [
            "[ 200  420  660  920 1200 1500]\n"
          ]
        }
      ]
    },
    {
      "cell_type": "code",
      "source": [
        "a1=np.array([10,20,30,40,50,60])\n",
        "a2=np.array([20,21,22,23,24,25])\n",
        "n=np.divide(a1,a2)\n",
        "print(n)"
      ],
      "metadata": {
        "colab": {
          "base_uri": "https://localhost:8080/"
        },
        "id": "WC_TUnbvQ-Mw",
        "outputId": "054768a5-5b61-41be-ffee-f9a40079215d"
      },
      "execution_count": null,
      "outputs": [
        {
          "output_type": "stream",
          "name": "stdout",
          "text": [
            "[0.5        0.95238095 1.36363636 1.73913043 2.08333333 2.4       ]\n"
          ]
        }
      ]
    },
    {
      "cell_type": "code",
      "source": [
        "a1=np.array([10,20,30,40,50,60])\n",
        "a2=np.array([20,21,22,23,24,25])\n",
        "n=np.mod(a1,a2)\n",
        "print(n)"
      ],
      "metadata": {
        "colab": {
          "base_uri": "https://localhost:8080/"
        },
        "id": "_6zV4y59RAE4",
        "outputId": "5911a3af-49c5-48e2-9520-80ef2f5d9ee1"
      },
      "execution_count": null,
      "outputs": [
        {
          "output_type": "stream",
          "name": "stdout",
          "text": [
            "[10 20  8 17  2 10]\n"
          ]
        }
      ]
    },
    {
      "cell_type": "code",
      "source": [
        "a1=np.array([10,20,30,40,50,60])\n",
        "a2=np.array([20,21,22,23,24,25])\n",
        "n=np.divmod(a1,a2)\n",
        "print(n)"
      ],
      "metadata": {
        "colab": {
          "base_uri": "https://localhost:8080/"
        },
        "id": "LQEPJCElRLwc",
        "outputId": "b7d8ca92-1503-4605-c930-f5d6bc4d1489"
      },
      "execution_count": null,
      "outputs": [
        {
          "output_type": "stream",
          "name": "stdout",
          "text": [
            "(array([0, 0, 1, 1, 2, 2]), array([10, 20,  8, 17,  2, 10]))\n"
          ]
        }
      ]
    },
    {
      "cell_type": "markdown",
      "source": [
        "Logarithms"
      ],
      "metadata": {
        "id": "flAWkNPpSUAm"
      }
    },
    {
      "cell_type": "code",
      "source": [
        "a1=np.arange(1,10)\n",
        "print(a1)\n",
        "print(np.log(a1))#natural log e"
      ],
      "metadata": {
        "colab": {
          "base_uri": "https://localhost:8080/"
        },
        "id": "pbj_IF81S_eR",
        "outputId": "cfeef8bb-c94c-4c2f-c06a-3ba50a8d1b55"
      },
      "execution_count": null,
      "outputs": [
        {
          "output_type": "stream",
          "name": "stdout",
          "text": [
            "[1 2 3 4 5 6 7 8 9]\n",
            "[0.         0.69314718 1.09861229 1.38629436 1.60943791 1.79175947\n",
            " 1.94591015 2.07944154 2.19722458]\n"
          ]
        }
      ]
    },
    {
      "cell_type": "code",
      "source": [
        "a1=np.arange(1,10)\n",
        "print(a1)\n",
        "print(np.log2(a1))#log base2"
      ],
      "metadata": {
        "colab": {
          "base_uri": "https://localhost:8080/"
        },
        "id": "2dRQ1h7fSXQ9",
        "outputId": "fe3afe82-aac5-4e0f-b04c-29ee10fec094"
      },
      "execution_count": null,
      "outputs": [
        {
          "output_type": "stream",
          "name": "stdout",
          "text": [
            "[1 2 3 4 5 6 7 8 9]\n",
            "[0.         1.         1.5849625  2.         2.32192809 2.5849625\n",
            " 2.80735492 3.         3.169925  ]\n"
          ]
        }
      ]
    },
    {
      "cell_type": "code",
      "source": [
        "a=1.2\n",
        "print(np.log10(a))#log base 10"
      ],
      "metadata": {
        "colab": {
          "base_uri": "https://localhost:8080/"
        },
        "id": "980IFchvSp5X",
        "outputId": "a61ebeb1-f9bd-46f2-e7d2-9bb15f743cf2"
      },
      "execution_count": null,
      "outputs": [
        {
          "output_type": "stream",
          "name": "stdout",
          "text": [
            "0.07918124604762482\n"
          ]
        }
      ]
    },
    {
      "cell_type": "markdown",
      "source": [
        "Other mathematical fuctions"
      ],
      "metadata": {
        "id": "g4x5Cc2DUwMu"
      }
    },
    {
      "cell_type": "code",
      "source": [
        "a2=np.array([5,6,7,10])\n",
        "x=np.cumsum(a2)#cumulative sum\n",
        "print(x)"
      ],
      "metadata": {
        "colab": {
          "base_uri": "https://localhost:8080/"
        },
        "id": "5etD-ErSWG7M",
        "outputId": "13f4b493-e647-46d7-b19f-f0c96619ad5c"
      },
      "execution_count": null,
      "outputs": [
        {
          "output_type": "stream",
          "name": "stdout",
          "text": [
            "[ 5 11 18 28]\n"
          ]
        }
      ]
    },
    {
      "cell_type": "code",
      "source": [
        "a2=np.array([5,6,7,10])\n",
        "x=np.cumprod(a2)#cumulative product\n",
        "print(x)"
      ],
      "metadata": {
        "colab": {
          "base_uri": "https://localhost:8080/"
        },
        "id": "80Zdcxz7UvFe",
        "outputId": "931a7005-4d38-48da-f458-f77e8cad0754"
      },
      "execution_count": null,
      "outputs": [
        {
          "output_type": "stream",
          "name": "stdout",
          "text": [
            "[   5   30  210 2100]\n"
          ]
        }
      ]
    },
    {
      "cell_type": "code",
      "source": [
        "a1=np.array([10,15,25,15])#e2-e1\n",
        "newarr=np.diff(a1)#difference\n",
        "print(newarr)"
      ],
      "metadata": {
        "colab": {
          "base_uri": "https://localhost:8080/"
        },
        "id": "Atgz2D1-VK6T",
        "outputId": "b1d78248-a436-421c-f583-56427e264ba1"
      },
      "execution_count": null,
      "outputs": [
        {
          "output_type": "stream",
          "name": "stdout",
          "text": [
            "[  5  10 -10]\n"
          ]
        }
      ]
    },
    {
      "cell_type": "code",
      "source": [
        "num1=455\n",
        "num2=665\n",
        "x=np.lcm(num1,num2)#lcm\n",
        "print(x)"
      ],
      "metadata": {
        "colab": {
          "base_uri": "https://localhost:8080/"
        },
        "id": "hOok7NZsVhlu",
        "outputId": "44d97110-cf4f-4b26-f4a5-f358ac1c0eec"
      },
      "execution_count": null,
      "outputs": [
        {
          "output_type": "stream",
          "name": "stdout",
          "text": [
            "8645\n"
          ]
        }
      ]
    },
    {
      "cell_type": "code",
      "source": [
        "num1=455\n",
        "num2=665\n",
        "x=np.gcd(num1,num2)#gcd\n",
        "print(x)"
      ],
      "metadata": {
        "colab": {
          "base_uri": "https://localhost:8080/"
        },
        "id": "CGiASUEbV9xn",
        "outputId": "64c687c7-8e5a-40b2-f197-96e6eaebf3bb"
      },
      "execution_count": null,
      "outputs": [
        {
          "output_type": "stream",
          "name": "stdout",
          "text": [
            "35\n"
          ]
        }
      ]
    },
    {
      "cell_type": "code",
      "source": [
        "a=np.array([12,15,60])\n",
        "gc=np.gcd.reduce(a)#takes multiple inputs gives single product\n",
        "print(gc)"
      ],
      "metadata": {
        "colab": {
          "base_uri": "https://localhost:8080/"
        },
        "id": "6cSS23qAXIvB",
        "outputId": "61bd8590-b218-4092-e597-a4c194756a00"
      },
      "execution_count": null,
      "outputs": [
        {
          "output_type": "stream",
          "name": "stdout",
          "text": [
            "3\n"
          ]
        }
      ]
    },
    {
      "cell_type": "code",
      "source": [
        "a=np.array([12,15,60])\n",
        "lc=np.lcm.reduce(a)#takes multiple inputs gives single product\n",
        "print(lc)"
      ],
      "metadata": {
        "colab": {
          "base_uri": "https://localhost:8080/"
        },
        "id": "fgye0PeJXnoY",
        "outputId": "53b6da43-1a40-4397-bf5e-14ef96118e42"
      },
      "execution_count": null,
      "outputs": [
        {
          "output_type": "stream",
          "name": "stdout",
          "text": [
            "60\n"
          ]
        }
      ]
    }
  ]
}