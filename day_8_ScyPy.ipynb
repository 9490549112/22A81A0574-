{
  "nbformat": 4,
  "nbformat_minor": 0,
  "metadata": {
    "colab": {
      "provenance": [],
      "authorship_tag": "ABX9TyPqeib78wDi3R3DQ+muBcoW",
      "include_colab_link": true
    },
    "kernelspec": {
      "name": "python3",
      "display_name": "Python 3"
    },
    "language_info": {
      "name": "python"
    }
  },
  "cells": [
    {
      "cell_type": "markdown",
      "metadata": {
        "id": "view-in-github",
        "colab_type": "text"
      },
      "source": [
        "<a href=\"https://colab.research.google.com/github/9490549112/22A81A0574-/blob/main/day_8_ScyPy.ipynb\" target=\"_parent\"><img src=\"https://colab.research.google.com/assets/colab-badge.svg\" alt=\"Open In Colab\"/></a>"
      ]
    },
    {
      "cell_type": "code",
      "execution_count": null,
      "metadata": {
        "colab": {
          "base_uri": "https://localhost:8080/"
        },
        "id": "cbfGHlzbuauA",
        "outputId": "c8352d8c-334b-4c88-ecfa-2085c783b127"
      },
      "outputs": [
        {
          "output_type": "stream",
          "name": "stdout",
          "text": [
            "Requirement already satisfied: scipy in /usr/local/lib/python3.10/dist-packages (1.11.4)\n",
            "Requirement already satisfied: numpy<1.28.0,>=1.21.6 in /usr/local/lib/python3.10/dist-packages (from scipy) (1.25.2)\n"
          ]
        }
      ],
      "source": [
        "pip install scipy"
      ]
    },
    {
      "cell_type": "code",
      "source": [
        "import scipy\n",
        "#Example:Integration using quad function\n",
        "from scipy import integrate\n",
        "result, error=integrate.quad(lambda x: x**2,0,1)\n",
        "print(\"Result:\",result)\n",
        "print(\"error\",error)"
      ],
      "metadata": {
        "colab": {
          "base_uri": "https://localhost:8080/"
        },
        "id": "LD6qdL3e8RrD",
        "outputId": "4b7a8997-7339-48ed-f64c-e3c5f7167bbc"
      },
      "execution_count": null,
      "outputs": [
        {
          "output_type": "stream",
          "name": "stdout",
          "text": [
            "Result: 0.33333333333333337\n",
            "error 3.700743415417189e-15\n"
          ]
        }
      ]
    },
    {
      "cell_type": "code",
      "source": [
        "import numpy as np\n",
        "from scipy import optimize\n",
        "#optimization\n",
        "result_optimization=optimize.minimize_scalar(lambda x: x**2+3*x+5)\n",
        "print(\"Optimization result:\",result_optimization.x)"
      ],
      "metadata": {
        "colab": {
          "base_uri": "https://localhost:8080/"
        },
        "id": "oq8s5slc9wKW",
        "outputId": "9228bd90-4e19-47db-c6b5-e17e0b790174"
      },
      "execution_count": null,
      "outputs": [
        {
          "output_type": "stream",
          "name": "stdout",
          "text": [
            "Optimization result: -1.5000000000000002\n"
          ]
        }
      ]
    },
    {
      "cell_type": "code",
      "source": [
        "square=lambda x: x**2\n",
        "#using lambda function\n",
        "result=square(5)\n",
        "print(\"Result:\",result)"
      ],
      "metadata": {
        "colab": {
          "base_uri": "https://localhost:8080/"
        },
        "id": "_8sj4eae-VCS",
        "outputId": "1f365326-75b1-4f90-b1b0-0c2b9e9580b4"
      },
      "execution_count": null,
      "outputs": [
        {
          "output_type": "stream",
          "name": "stdout",
          "text": [
            "Result: 25\n"
          ]
        }
      ]
    },
    {
      "cell_type": "code",
      "source": [
        "add_numbers=lambda x,y:x+y\n",
        "#using the lambda function\n",
        "result=add_numbers(3,7)\n",
        "print(\"Result:\",result)"
      ],
      "metadata": {
        "colab": {
          "base_uri": "https://localhost:8080/"
        },
        "id": "TQXMlTxE_VkG",
        "outputId": "8622e863-af11-4615-da37-df6a85bd8471"
      },
      "execution_count": null,
      "outputs": [
        {
          "output_type": "stream",
          "name": "stdout",
          "text": [
            "Result: 10\n"
          ]
        }
      ]
    },
    {
      "cell_type": "code",
      "source": [
        "import numpy as np\n",
        "from scipy import interpolate\n",
        "#interpolation\n",
        "x_data=np.array([0,1,2,3,4])\n",
        "y_data=np.array([0,2,1,3,5])\n",
        "interp_func=interpolate.interp1d(x_data,y_data,kind='linear')\n",
        "interp_result=interp_func(2.5)\n",
        "print(\"interpolation result:\",interp_result)"
      ],
      "metadata": {
        "colab": {
          "base_uri": "https://localhost:8080/"
        },
        "id": "ASgB-pbC_pNB",
        "outputId": "3f3ede6e-da26-47ae-e78c-46b83334e413"
      },
      "execution_count": null,
      "outputs": [
        {
          "output_type": "stream",
          "name": "stdout",
          "text": [
            "interpolation result: 2.0\n"
          ]
        }
      ]
    },
    {
      "cell_type": "code",
      "source": [
        "import numpy as np\n",
        "import pandas as pd\n",
        "import scipy.stats as stats\n",
        "import statsmodels.api as sm"
      ],
      "metadata": {
        "id": "u47iyQm9_3yc"
      },
      "execution_count": null,
      "outputs": []
    },
    {
      "cell_type": "code",
      "source": [
        "#generate sample data\n",
        "np.random.seed(0)\n",
        "data=pd.DataFrame({\n",
        "    'Treatment':np.random.choice(['A','B','C'],size=100),\n",
        "    'score':np.random.normal(loc=10,scale=2,size=100)#loc=mean value,scale=standard ceviation\n",
        "})\n",
        "print(data)"
      ],
      "metadata": {
        "colab": {
          "base_uri": "https://localhost:8080/"
        },
        "id": "nkDe4RZ9Fjzv",
        "outputId": "27c62826-3886-4884-91df-ec8d191c1456"
      },
      "execution_count": null,
      "outputs": [
        {
          "output_type": "stream",
          "name": "stdout",
          "text": [
            "   Treatment      score\n",
            "0          A   8.626821\n",
            "1          B  10.029747\n",
            "2          A   9.248668\n",
            "3          B   9.923553\n",
            "4          B  10.735949\n",
            "..       ...        ...\n",
            "95         A   9.933528\n",
            "96         C  10.131283\n",
            "97         A  10.531571\n",
            "98         B  12.303684\n",
            "99         C  10.276086\n",
            "\n",
            "[100 rows x 2 columns]\n"
          ]
        }
      ]
    },
    {
      "cell_type": "code",
      "source": [
        "#calculate mean score for each treatement group\n",
        "mean_score_per_group=data.groupby('Treatment')['score'].mean()\n",
        "print(mean_score_per_group)"
      ],
      "metadata": {
        "colab": {
          "base_uri": "https://localhost:8080/"
        },
        "id": "6nHcuCseHXXJ",
        "outputId": "6134402d-f4d9-4fc7-da9e-b10c5b915067"
      },
      "execution_count": null,
      "outputs": [
        {
          "output_type": "stream",
          "name": "stdout",
          "text": [
            "Treatment\n",
            "A     9.611241\n",
            "B    10.099304\n",
            "C    10.010667\n",
            "Name: score, dtype: float64\n"
          ]
        }
      ]
    },
    {
      "cell_type": "code",
      "source": [
        "import random\n",
        "choices=['A','B','C']\n",
        "size=100\n",
        "treatment_column=np.random.choice(choices,size=size)\n",
        "print(treatment_column)"
      ],
      "metadata": {
        "colab": {
          "base_uri": "https://localhost:8080/"
        },
        "id": "x49pIhvcIw5k",
        "outputId": "1fa61e4c-0607-453c-887a-6af17fc955ec"
      },
      "execution_count": null,
      "outputs": [
        {
          "output_type": "stream",
          "name": "stdout",
          "text": [
            "['B' 'B' 'C' 'A' 'B' 'A' 'B' 'B' 'C' 'A' 'C' 'A' 'C' 'A' 'C' 'A' 'A' 'A'\n",
            " 'A' 'B' 'C' 'A' 'A' 'B' 'C' 'B' 'A' 'A' 'A' 'A' 'A' 'B' 'A' 'C' 'C' 'C'\n",
            " 'A' 'A' 'C' 'A' 'C' 'C' 'A' 'B' 'B' 'B' 'A' 'A' 'B' 'A' 'A' 'B' 'C' 'C'\n",
            " 'A' 'C' 'B' 'B' 'C' 'B' 'C' 'C' 'B' 'C' 'A' 'A' 'C' 'B' 'B' 'C' 'C' 'B'\n",
            " 'A' 'C' 'A' 'C' 'A' 'C' 'B' 'C' 'B' 'A' 'B' 'B' 'C' 'C' 'A' 'B' 'A' 'A'\n",
            " 'A' 'C' 'A' 'B' 'A' 'C' 'B' 'A' 'B' 'C']\n"
          ]
        }
      ]
    },
    {
      "cell_type": "code",
      "source": [
        "#generate random numbers following a normal distribution\n",
        "mean=10\n",
        "std=2\n",
        "size=100\n",
        "score_values=mean+std*np.random.randn(size)\n",
        "print(score_values)"
      ],
      "metadata": {
        "colab": {
          "base_uri": "https://localhost:8080/"
        },
        "id": "X3mzyU4qJauM",
        "outputId": "42ac80fd-428b-4209-aab7-623f0e349381"
      },
      "execution_count": null,
      "outputs": [
        {
          "output_type": "stream",
          "name": "stdout",
          "text": [
            "[11.04397546 12.39451973  9.23502757 11.38332384 10.70777002 12.09517067\n",
            "  9.15220753  2.97046376  7.31368654 12.85101225 10.45716402  9.48467248\n",
            " 10.10074143  7.23957825  9.47665587  9.64124061  8.61445885 12.27565373\n",
            "  9.6616855   8.47217266  9.00385379  9.27421777 10.52792062  8.74071618\n",
            "  9.05548319  6.97327793 12.21524936 10.3524775   8.11929292 11.85918866\n",
            "  7.87441016  8.22718746 13.84269391  9.08043895  7.82193113 11.96823459\n",
            "  7.68158735  9.12692581 12.01848906 11.42677914  8.54388456 11.67903292\n",
            " 12.47804196  6.43039223  8.40762832  7.19891747  9.63129885  7.21761377\n",
            " 10.07251948  8.37118888 11.39474565  6.52514152 10.2317114  10.73130289\n",
            "  9.85215307  9.01296486 16.20306117 11.71750831  7.69044895 11.88366868\n",
            "  9.43572972  8.04869067 10.19637338 11.81097991 12.03748287  9.77020229\n",
            " 13.48607744  9.35624162 11.65914219  9.58536401 12.23599721 12.12849937\n",
            " 12.30265967  8.45508459  7.41273144 11.35405362 10.8481104   9.02864765\n",
            "  9.89660553 11.13411274 12.13566715 10.54319148 11.23860353  9.88274801\n",
            " 12.5131428  10.59349439 10.79717145  7.89365124  8.72104747  9.70294624\n",
            "  6.85083571  9.00862361  9.76485041 10.74624032  9.22794246  7.53881377\n",
            "  6.08345678  8.96407463 11.15959759  7.29253432]\n"
          ]
        }
      ]
    },
    {
      "cell_type": "code",
      "source": [
        "#Hypothesis Testing(t-test)\n",
        "group_A = data[data['Treatment']=='A']['score']\n",
        "group_B =data[data['Treatment']=='B']['score']\n",
        "t_stat, p_value=stats.ttest_ind(group_A,group_B)\n",
        "print(\"t-statistic\",t_stat)\n",
        "print(\"p-value\",p_value)"
      ],
      "metadata": {
        "colab": {
          "base_uri": "https://localhost:8080/"
        },
        "id": "QvSR2Sx9KLE-",
        "outputId": "eed08cee-1ff9-4162-b196-a18555f13137"
      },
      "execution_count": null,
      "outputs": [
        {
          "output_type": "stream",
          "name": "stdout",
          "text": [
            "t-statistic -1.0341676575352792\n",
            "p-value 0.3045674995802033\n"
          ]
        }
      ]
    },
    {
      "cell_type": "code",
      "source": [
        "np.random.seed(0)   #practice started\n",
        "data=pd.DataFrame({\n",
        "    'Prasanna':np.random.choice(['1','2','3'],size=10),\n",
        "    'Sahiti':np.random.normal(loc=10,scale=2,size=10)#loc=mean value,scale=standard ceviation\n",
        "})\n",
        "print(data)"
      ],
      "metadata": {
        "colab": {
          "base_uri": "https://localhost:8080/"
        },
        "id": "w8SNCbnmQsPK",
        "outputId": "f87d5bbb-4e44-419e-918f-88198531c60a"
      },
      "execution_count": null,
      "outputs": [
        {
          "output_type": "stream",
          "name": "stdout",
          "text": [
            "  Prasanna     Sahiti\n",
            "0        1   9.653861\n",
            "1        2   6.476697\n",
            "2        1   9.824654\n",
            "3        2  12.733759\n",
            "4        2  12.250628\n",
            "5        3   9.282009\n",
            "6        1  12.441216\n",
            "7        3   7.321009\n",
            "8        1  10.856747\n",
            "9        1   9.753074\n"
          ]
        }
      ]
    },
    {
      "cell_type": "code",
      "source": [
        "mean_score_per_group=data.groupby('Prasanna')['Sahiti'].mean()\n",
        "print(mean_score_per_group)"
      ],
      "metadata": {
        "colab": {
          "base_uri": "https://localhost:8080/"
        },
        "id": "ASr-cSWzRuCW",
        "outputId": "b149707e-8d18-46d6-9455-63893adea8c9"
      },
      "execution_count": null,
      "outputs": [
        {
          "output_type": "stream",
          "name": "stdout",
          "text": [
            "Prasanna\n",
            "1    10.505910\n",
            "2    10.487028\n",
            "3     8.301509\n",
            "Name: Sahiti, dtype: float64\n"
          ]
        }
      ]
    },
    {
      "cell_type": "code",
      "source": [
        "#Hypothesis Testing(t-test)\n",
        "group_A = data[data['Prasanna']=='1']['Sahiti']\n",
        "group_B =data[data['Prasanna']=='2']['Sahiti']\n",
        "t_stat, p_value=stats.ttest_ind(group_A,group_B)\n",
        "print(\"t-statistic\",t_stat)\n",
        "print(\"p-value\",p_value)    #practice ended"
      ],
      "metadata": {
        "colab": {
          "base_uri": "https://localhost:8080/"
        },
        "id": "ySpaZlP3SBvy",
        "outputId": "55fc0a39-f007-4633-b6a0-080e9c25d431"
      },
      "execution_count": null,
      "outputs": [
        {
          "output_type": "stream",
          "name": "stdout",
          "text": [
            "t-statistic 0.011588929432828264\n",
            "p-value 0.9911293054731878\n"
          ]
        }
      ]
    },
    {
      "cell_type": "code",
      "source": [
        "#ANOVA (One-way ANOVA)\n",
        "f_stat,p_value=stats.f_oneway(data[data['Treatment']=='A']['score'],\n",
        "                               data[data['Treatment']=='B']['score'],\n",
        "                               data[data['Treatment']=='C']['score'])\n",
        "print(\"F-statistic:\",f_stat)\n",
        "print(\"p-value:\",p_value)"
      ],
      "metadata": {
        "colab": {
          "base_uri": "https://localhost:8080/"
        },
        "id": "72rK9b26Cz5_",
        "outputId": "c742161c-7d92-4bf3-d01f-bf59db4b287e"
      },
      "execution_count": null,
      "outputs": [
        {
          "output_type": "stream",
          "name": "stdout",
          "text": [
            "F-statistic: 0.6019178068930898\n",
            "p-value: 0.5497930622874936\n"
          ]
        }
      ]
    }
  ]
}